{
 "cells": [
  {
   "cell_type": "code",
   "execution_count": 1,
   "metadata": {},
   "outputs": [],
   "source": [
    "import numpy as np\n",
    "import cv2\n",
    "import os\n",
    "import itertools\n",
    "import math\n",
    "import matplotlib.pyplot as plt"
   ]
  },
  {
   "cell_type": "code",
   "execution_count": 2,
   "metadata": {},
   "outputs": [
    {
     "name": "stdout",
     "output_type": "stream",
     "text": [
      "Поместите изображение в папку со скриптом и введите его полное имя, включая расширение:\n",
      "good_5.png\n"
     ]
    }
   ],
   "source": [
    "file_path = input('Поместите изображение в папку со скриптом и введите его полное имя, включая расширение:\\n')"
   ]
  },
  {
   "cell_type": "code",
   "execution_count": 3,
   "metadata": {},
   "outputs": [],
   "source": [
    "try:\n",
    "    img = cv2.imread(file_path)\n",
    "    img = cv2.cvtColor(img, cv2.COLOR_BGR2RGB)\n",
    "except:\n",
    "    print('Ошибка загрузки файла')\n",
    "    quit()"
   ]
  },
  {
   "cell_type": "code",
   "execution_count": 4,
   "metadata": {},
   "outputs": [],
   "source": [
    "# функция, возвращающая контуры светлых участков (светодиодов) изображения\n",
    "\n",
    "def get_contours(img):\n",
    "    \n",
    "    # Размытие для уменьшения шума\n",
    "    blur = cv2.GaussianBlur(img, (5,5), 75)\n",
    "    \n",
    "    # Переведем изображение в градации серого\n",
    "    gray = cv2.cvtColor(blur, cv2.COLOR_RGB2GRAY)\n",
    "    \n",
    "    # Зададим пороги для отбрасывания темных участков\n",
    "    _, thresh = cv2.threshold(gray, 170, 255, cv2.THRESH_BINARY)\n",
    "    \n",
    "    # Находим контуры светлых объектов\n",
    "    contours, hierarchy = cv2.findContours(thresh, mode=cv2.RETR_TREE, method=cv2.CHAIN_APPROX_SIMPLE)\n",
    "    \n",
    "    return contours"
   ]
  },
  {
   "cell_type": "code",
   "execution_count": 5,
   "metadata": {},
   "outputs": [],
   "source": [
    "# функция отрисовки контуров на изображении\n",
    "\n",
    "def draw_contours(img):\n",
    "    full = cv2.drawContours(img, get_contours(img), contourIdx = -1, color = (255, 0, 0), thickness = 1)\n",
    "    plt.imshow(full)"
   ]
  },
  {
   "cell_type": "code",
   "execution_count": 6,
   "metadata": {},
   "outputs": [],
   "source": [
    "# функция нахождения центров масс контуров через моменты изображения\n",
    "\n",
    "def find_contours_centers(contours):\n",
    "    c = []\n",
    "    for contour in contours:\n",
    "        M = cv2.moments(contour)\n",
    "        try:\n",
    "            c.append( [int(M['m10'] / M['m00']), int(M['m01'] / M['m00'])] )\n",
    "        except:\n",
    "            pass\n",
    "    return c"
   ]
  },
  {
   "cell_type": "code",
   "execution_count": 7,
   "metadata": {},
   "outputs": [],
   "source": [
    "# функция нахождения квадранта, в котором расположен светодиод\n",
    "# 1,2,3,4 - соответственно номера квадрантов от 0 до 2pi\n",
    "# 0 означает, что центр светодиода попал на границу квадрантов (ось х или ось у)\n",
    "\n",
    "def quadrant_locate(coordinates):\n",
    "    x = coordinates[0]\n",
    "    y = coordinates[1]\n",
    "    \n",
    "    x_max = img.shape[1]\n",
    "    y_max = img.shape[0]\n",
    "    \n",
    "    # ввод нового относительного центра координат, находящегося в центре изображения\n",
    "    x_0 = x_max / 2\n",
    "    y_0 = y_max / 2\n",
    "    \n",
    "    try:\n",
    "        # квадрант определяется через тангенс угла наклона точки к относительному центру координат\n",
    "        tan = (y - y_0) / (x - x_0)\n",
    "        \n",
    "        if tan > 0:\n",
    "            if (x - x_0) > 0:\n",
    "                return 1\n",
    "            else:\n",
    "                return 3\n",
    "        elif tan < 0:\n",
    "            if (x - x_0) > 0:\n",
    "                return 4\n",
    "            else:\n",
    "                return 2\n",
    "        else:\n",
    "            # в этом случае точка лежит на границе квадрантов, на оси Х\n",
    "            return 0\n",
    "    \n",
    "    # обработка исключения при возможном делении на ноль\n",
    "    # в этом случае точка лежит на границе квадрантов, на оси У\n",
    "    \n",
    "    except:\n",
    "        return 0"
   ]
  },
  {
   "cell_type": "code",
   "execution_count": 8,
   "metadata": {},
   "outputs": [],
   "source": [
    "# функция проверки нахождения каждого светодиода в соответствующем квадранте\n",
    "\n",
    "def quadrants_check(quadrants):\n",
    "    \n",
    "    # проверка, что у нас 4 светодиода\n",
    "    if len(quadrants) != 4:\n",
    "        return False\n",
    "    else:\n",
    "        # проверка на наличие центра светодиода на оси Х или У\n",
    "        if 0 in quadrants:\n",
    "            return False\n",
    "        else:\n",
    "            # проверка уникальности каждого квадранта\n",
    "            # 2 светодиода не могут находиться в одном квадранте\n",
    "            if len(quadrants) != len(set(quadrants)):\n",
    "                return False\n",
    "            else:\n",
    "                # проверка, что сумма квадрантов строго равна 10 (1+2+3+4 = 10)\n",
    "                if sum(quadrants) != 10:\n",
    "                    return False\n",
    "                else:\n",
    "                    return True"
   ]
  },
  {
   "cell_type": "markdown",
   "metadata": {},
   "source": [
    "Найдем контуры, центры светодиодов и их квадранты."
   ]
  },
  {
   "cell_type": "code",
   "execution_count": 9,
   "metadata": {},
   "outputs": [],
   "source": [
    "contours = get_contours(img)"
   ]
  },
  {
   "cell_type": "code",
   "execution_count": 10,
   "metadata": {},
   "outputs": [
    {
     "data": {
      "image/png": "[encoded data removed]",
      "text/plain": [
       "<Figure size 432x288 with 1 Axes>"
      ]
     },
     "metadata": {
      "needs_background": "light"
     },
     "output_type": "display_data"
    }
   ],
   "source": [
    "draw_contours(img)"
   ]
  },
  {
   "cell_type": "code",
   "execution_count": 11,
   "metadata": {},
   "outputs": [],
   "source": [
    "centers = find_contours_centers(contours)"
   ]
  },
  {
   "cell_type": "code",
   "execution_count": 12,
   "metadata": {},
   "outputs": [],
   "source": [
    "quadrants = []\n",
    "for quadrant in centers:\n",
    "    quadrants.append(quadrant_locate(quadrant))"
   ]
  },
  {
   "cell_type": "markdown",
   "metadata": {},
   "source": [
    "Между 4-мя точками существует 6 возможных сочетаний по формуле $$C^k_n= \\frac {n!}{k!(n-k)!}$$ Найдем все сочетания."
   ]
  },
  {
   "cell_type": "code",
   "execution_count": 13,
   "metadata": {},
   "outputs": [],
   "source": [
    "dots_combinations = np.array(list(itertools.combinations(centers, 2)))"
   ]
  },
  {
   "cell_type": "markdown",
   "metadata": {},
   "source": [
    "Найдем все возможные длины между 4-мя точками."
   ]
  },
  {
   "cell_type": "code",
   "execution_count": 14,
   "metadata": {},
   "outputs": [],
   "source": [
    "lengths = []\n",
    "for _, dot_pair in enumerate(dots_combinations):\n",
    "    \n",
    "    # нахождение евклидова расстояния между точками\n",
    "    l = np.linalg.norm(dot_pair[1] - dot_pair[0])\n",
    "    lengths.append(round(l,3))\n",
    "\n",
    "# отсортируем расстояния в порядке возрастания\n",
    "lengths = sorted(lengths)\n",
    "lengths = np.array(lengths)"
   ]
  },
  {
   "cell_type": "markdown",
   "metadata": {},
   "source": [
    "Согласно условия задачи необходимо учитывать, что относительное расположение светодиодов всегда постоянно: если поделить изображения на 4 равных прямоугольника, то в каждом из них должен быть отображен светодиод.\n",
    "\n",
    "Постоянство относительного расположения светодиодов понимаю, как образование квадрата светодиодами. То есть мы получим 4 _приблизительно_ равных сторон квадрата и 2 _приблизительно_ равных диагонали. Чтобы проверить, что у нас _приблизительно_ квадрат, мы воспользуемся свойством квадрата $$d = \\sqrt{2}a,$$\n",
    "где d - диагональ,\n",
    "\n",
    "а - сторона квадрата."
   ]
  },
  {
   "cell_type": "markdown",
   "metadata": {},
   "source": [
    "Найдем среднее значение среди четырех наименьших расстояний (это стороны квадрата). Затем найдем среднее из двух наибольших длин (это диагонали). Отношение между этими значениями должно быть в идеале $\\sqrt{2}$."
   ]
  },
  {
   "cell_type": "code",
   "execution_count": 15,
   "metadata": {},
   "outputs": [],
   "source": [
    "a = lengths[:4].mean()\n",
    "d = lengths[-2:].mean()\n",
    "distances_relation = abs((d - (2 ** 0.5) * a) / max(d, (2 ** 0.5) * a))"
   ]
  },
  {
   "cell_type": "markdown",
   "metadata": {},
   "source": [
    "Эмпирическим путем подобрали значение `relation` в 1% или 0,01. Будем использовать его в финальной проверке."
   ]
  },
  {
   "cell_type": "markdown",
   "metadata": {},
   "source": [
    "Найдем площади светодиодов. Далее найдем все возможные сочетания площадей для того, чтобы найти значение, при котором будем считать, что площади находятся в допустимом интервале."
   ]
  },
  {
   "cell_type": "code",
   "execution_count": 16,
   "metadata": {},
   "outputs": [],
   "source": [
    "areas = []\n",
    "for i in range(0, len(contours)):\n",
    "    areas.append(cv2.contourArea(contours[i]))\n",
    "areas_combinations = list(itertools.combinations(areas, 2))"
   ]
  },
  {
   "cell_type": "markdown",
   "metadata": {},
   "source": [
    "Эмпирическим путем подобрали максимальное допустимое отношение площадей в 80% или 0.8. Это довольно таки много (площади могут отличаться в 4 раза), однако в тренировочной выборке есть изображение bad_3.png, в котором все светодиоды находятся каждый в своем квадранте и их центры примерно образуют квадрат, но площади отличаются в 25 раз."
   ]
  },
  {
   "cell_type": "code",
   "execution_count": 17,
   "metadata": {},
   "outputs": [],
   "source": [
    "areas_relation = []\n",
    "for _, area in enumerate(areas_combinations):\n",
    "    \n",
    "    # проверка равны ли два числа м/у собой с определенной погрешностью в % или долях\n",
    "    d = math.isclose(area[0], area[1], rel_tol = 0.8)\n",
    "    areas_relation.append(d)"
   ]
  },
  {
   "cell_type": "code",
   "execution_count": 18,
   "metadata": {},
   "outputs": [],
   "source": [
    "check_areas = True\n",
    "for i in areas_relation:\n",
    "    check_areas *= i"
   ]
  },
  {
   "cell_type": "code",
   "execution_count": 22,
   "metadata": {},
   "outputs": [],
   "source": [
    "def final_check(quadrants_check, distances_relation, check_areas):\n",
    "    \n",
    "    # проверка нахождения каждого светодиода в своем квадранте\n",
    "    if quadrants_check == False:\n",
    "        return 'Нет'\n",
    "    else:\n",
    "        \n",
    "        # проверка отношения длин между точками\n",
    "        # если расчетное значение отличается от имеющегося более, чем на 1%, то это не квадрат\n",
    "        if distances_relation > 0.01:\n",
    "            return 'Нет'\n",
    "        else:\n",
    "            \n",
    "            # проверка, что ВСЕ площади не отличаются друг от друга более, чем в 5 раз\n",
    "            if check_areas != 1:\n",
    "                return 'Нет'\n",
    "            else:\n",
    "                \n",
    "                return 'Да'    "
   ]
  },
  {
   "cell_type": "code",
   "execution_count": 23,
   "metadata": {},
   "outputs": [
    {
     "name": "stdout",
     "output_type": "stream",
     "text": [
      "Да\n"
     ]
    }
   ],
   "source": [
    "# финальная проверка\n",
    "print(final_check(quadrants_check(quadrants), distances_relation, check_areas))"
   ]
  },
  {
   "cell_type": "code",
   "execution_count": 24,
   "metadata": {},
   "outputs": [
    {
     "name": "stdout",
     "output_type": "stream",
     "text": [
      "Нажмите Enter для выхода...\n"
     ]
    },
    {
     "data": {
      "text/plain": [
       "''"
      ]
     },
     "execution_count": 24,
     "metadata": {},
     "output_type": "execute_result"
    }
   ],
   "source": [
    "input(\"Нажмите Enter для выхода...\")"
   ]
  }
 ],
 "metadata": {
  "kernelspec": {
   "display_name": "Python 3",
   "language": "python",
   "name": "python3"
  },
  "language_info": {
   "codemirror_mode": {
    "name": "ipython",
    "version": 3
   },
   "file_extension": ".py",
   "mimetype": "text/x-python",
   "name": "python",
   "nbconvert_exporter": "python",
   "pygments_lexer": "ipython3",
   "version": "3.8.3"
  }
 },
 "nbformat": 4,
 "nbformat_minor": 4
}
